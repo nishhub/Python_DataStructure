{
 "cells": [
  {
   "cell_type": "code",
   "execution_count": 5,
   "metadata": {},
   "outputs": [
    {
     "name": "stdout",
     "output_type": "stream",
     "text": [
      "True\n",
      "False\n"
     ]
    }
   ],
   "source": [
    "class Stack:\n",
    "    \n",
    "    def __init__(self):\n",
    "        self.items = []\n",
    "        \n",
    "    def push(self, item):\n",
    "        self.items.append(item)\n",
    "    def pop(self):\n",
    "        return self.items.pop()\n",
    "    def isEmpty(self):\n",
    "        return self.items == []\n",
    "    \n",
    "def match_symbols(symbol_str):\n",
    "        \n",
    "    symbol_pairs = { '(':')', '{':'}', '[':']'}\n",
    "    myStack = Stack()\n",
    "    openers = symbol_pairs.keys()\n",
    "    i = 0\n",
    "    while i < len(symbol_str):\n",
    "        symbol = symbol_str[i]\n",
    "        if symbol in openers:\n",
    "            myStack.push(symbol)\n",
    "        else:\n",
    "            if myStack.isEmpty():\n",
    "                return False\n",
    "            else:\n",
    "                top_item = myStack.pop()\n",
    "                if symbol != symbol_pairs[top_item]:\n",
    "                    return False\n",
    "        i += 1\n",
    "    if myStack.isEmpty():\n",
    "        return True\n",
    "    return False\n",
    "    \n",
    "print(match_symbols('({[]})'))\n",
    "print(match_symbols('[{]'))\n",
    "                "
   ]
  },
  {
   "cell_type": "code",
   "execution_count": null,
   "metadata": {},
   "outputs": [],
   "source": []
  }
 ],
 "metadata": {
  "kernelspec": {
   "display_name": "Python 3",
   "language": "python",
   "name": "python3"
  },
  "language_info": {
   "codemirror_mode": {
    "name": "ipython",
    "version": 3
   },
   "file_extension": ".py",
   "mimetype": "text/x-python",
   "name": "python",
   "nbconvert_exporter": "python",
   "pygments_lexer": "ipython3",
   "version": "3.7.3"
  }
 },
 "nbformat": 4,
 "nbformat_minor": 2
}
